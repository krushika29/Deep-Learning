{
 "cells": [
  {
   "cell_type": "markdown",
   "metadata": {},
   "source": [
    "# Deep Learning Homework 1\n",
    "## Team Members :\n",
    "#### 1) Krushika Tapedia (ktapedia)\n",
    "#### 2) Janvi Kothari (jkkothari)\n",
    "#### 3) Mihir Sawant (msawant)"
   ]
  },
  {
   "cell_type": "code",
   "execution_count": 1,
   "metadata": {
    "collapsed": true
   },
   "outputs": [],
   "source": [
    "import numpy as np"
   ]
  },
  {
   "cell_type": "code",
   "execution_count": 2,
   "metadata": {
    "collapsed": true
   },
   "outputs": [],
   "source": [
    "def problem1(A,B):\n",
    "    print(\"------Problem 1-------\\n\")\n",
    "    return print(A+B)"
   ]
  },
  {
   "cell_type": "code",
   "execution_count": 3,
   "metadata": {
    "collapsed": true
   },
   "outputs": [],
   "source": [
    "def problem2(A,B,C):\n",
    "    print(\"------Problem 2-------\\n\")\n",
    "    return print(np.dot(A,B)-C)"
   ]
  },
  {
   "cell_type": "code",
   "execution_count": 4,
   "metadata": {
    "collapsed": true
   },
   "outputs": [],
   "source": [
    "def problem3(A,B,C):\n",
    "    print(\"------Problem 3-------\\n\")\n",
    "    return print(A*B+np.matrix.transpose(C))"
   ]
  },
  {
   "cell_type": "code",
   "execution_count": 5,
   "metadata": {
    "collapsed": true
   },
   "outputs": [],
   "source": [
    "def problem4(x,y):\n",
    "    print(\"------Problem 4------\\n\")\n",
    "    x.shape = x.size,1\n",
    "    y.shape = y.size,1\n",
    "    return print(\"Computing x-Transpose*y \\n\",np.dot(np.matrix.transpose(x),y))\n",
    "# We could either use np.inner or the above written statement\n",
    "    "
   ]
  },
  {
   "cell_type": "code",
   "execution_count": 6,
   "metadata": {
    "collapsed": true
   },
   "outputs": [],
   "source": [
    "def problem5(A):\n",
    "    print(\"------Problem 5-------\\n\")\n",
    "    x,y = A.shape\n",
    "    return print(np.zeros(np.ma.shape(A)))"
   ]
  },
  {
   "cell_type": "code",
   "execution_count": 7,
   "metadata": {
    "collapsed": true
   },
   "outputs": [],
   "source": [
    "def problem6(A):\n",
    "    print(\"------Problem 6-------\\n\")\n",
    "    x,y = np.shape(A)\n",
    "    return print(np.ones(x))"
   ]
  },
  {
   "cell_type": "code",
   "execution_count": 8,
   "metadata": {
    "collapsed": true
   },
   "outputs": [],
   "source": [
    "def problem7(A):\n",
    "    print(\"------Problem 7-------\\n\")\n",
    "    return print(np.linalg.inv(A))"
   ]
  },
  {
   "cell_type": "code",
   "execution_count": 9,
   "metadata": {
    "collapsed": true
   },
   "outputs": [],
   "source": [
    "def problem8(A,x):\n",
    "    print(\"------Problem 8-------\\n\")\n",
    "    x.shape = A.shape[0],1\n",
    "    return print(np.linalg.solve(A,x))"
   ]
  },
  {
   "cell_type": "code",
   "execution_count": 10,
   "metadata": {
    "collapsed": true
   },
   "outputs": [],
   "source": [
    "def problem9(A,x):\n",
    "    print(\"------Problem 9-------\\n\")\n",
    "    x.shape = 1,A.shape[0]\n",
    "    return print(np.matrix.transpose(np.linalg.solve(np.matrix.transpose(A),np.matrix.transpose(x))))"
   ]
  },
  {
   "cell_type": "code",
   "execution_count": 11,
   "metadata": {
    "collapsed": true
   },
   "outputs": [],
   "source": [
    "def problem10(A,alpha):\n",
    "    print(\"------Problem 10-------\\n\")\n",
    "    return print(A+alpha*np.eye(A.shape[0],A.shape[1]))"
   ]
  },
  {
   "cell_type": "code",
   "execution_count": 12,
   "metadata": {
    "collapsed": true
   },
   "outputs": [],
   "source": [
    "def problem11(A,i,j):\n",
    "    print(\"------Problem 11-------\\n\")\n",
    "    return print(A[i-1,[j-1]])\n",
    "# We could either do direct indexing or use the function np.item\n",
    "#     return A.item(i-1,j-1)"
   ]
  },
  {
   "cell_type": "code",
   "execution_count": 13,
   "metadata": {
    "collapsed": true
   },
   "outputs": [],
   "source": [
    "def problem12(A,i):\n",
    "    print(\"------Problem 12-------\\n\")\n",
    "    return print(np.sum(A[i-1,:]))"
   ]
  },
  {
   "cell_type": "code",
   "execution_count": 14,
   "metadata": {
    "collapsed": true
   },
   "outputs": [],
   "source": [
    "def problem13(A,c,d):\n",
    "    print(\"------Problem 13-------\\n\")\n",
    "    return print(np.mean(A[np.where(np.logical_and(A>=c,A<=d))]))"
   ]
  },
  {
   "cell_type": "code",
   "execution_count": 15,
   "metadata": {
    "collapsed": true
   },
   "outputs": [],
   "source": [
    "def problem14(A,k):\n",
    "    print(\"------Problem 14-------\\n\")\n",
    "    x = A.shape[0]\n",
    "    eigval, eigvect = np.linalg.eig(A)\n",
    "#     Sorting the Eigen values and vectors to get the k largest Eigen values and Vectors\n",
    "    i = eigval.argsort()[::-1]\n",
    "    eigVal = eigval[i]\n",
    "    eigVect = eigvect[:,i]\n",
    "    l = range(0,k)\n",
    "    return print(eigVect[:,l])"
   ]
  },
  {
   "cell_type": "code",
   "execution_count": 18,
   "metadata": {
    "collapsed": true
   },
   "outputs": [],
   "source": [
    "def problem15(x,k,m,s):\n",
    "    print(\"------Problem 15-------\\n\")\n",
    "    n = x.size\n",
    "    x.shape = n,1\n",
    "    z = np.array([1 for i in range(n)])\n",
    "    z.shape = z.size,1\n",
    "    mu = x+m*z\n",
    "    sigma = np.sqrt(s*np.eye(n,n))\n",
    "    return print(np.dot(sigma,np.random.randn(n,k))+mu)"
   ]
  },
  {
   "cell_type": "code",
   "execution_count": 19,
   "metadata": {},
   "outputs": [
    {
     "name": "stdout",
     "output_type": "stream",
     "text": [
      "------Problem 1-------\n",
      "\n",
      "[[2 3 4]\n",
      " [2 1 2]\n",
      " [5 1 3]]\n",
      "------Problem 2-------\n",
      "\n",
      "[[8 1 5]\n",
      " [2 0 2]\n",
      " [7 2 5]]\n",
      "------Problem 3-------\n",
      "\n",
      "[[10  3  7]\n",
      " [ 4  2  4]\n",
      " [ 9  4  7]]\n",
      "------Problem 4------\n",
      "\n",
      "Computing x-Transpose*y \n",
      " [[6]]\n",
      "------Problem 5-------\n",
      "\n",
      "[[ 0.  0.  0.]\n",
      " [ 0.  0.  0.]\n",
      " [ 0.  0.  0.]]\n",
      "------Problem 6-------\n",
      "\n",
      "[ 1.  1.  1.]\n",
      "------Problem 7-------\n",
      "\n",
      "[[-0.33333333  0.33333333  0.33333333]\n",
      " [-0.33333333  2.33333333 -0.66666667]\n",
      " [ 0.66666667 -1.66666667  0.33333333]]\n",
      "------Problem 8-------\n",
      "\n",
      "[[ 0.33333333]\n",
      " [ 1.33333333]\n",
      " [-0.66666667]]\n",
      "------Problem 9-------\n",
      "\n",
      "[[ 0.  1. -0.]]\n",
      "------Problem 10-------\n",
      "\n",
      "[[ 6.  2.  3.]\n",
      " [ 1.  6.  1.]\n",
      " [ 3.  1.  7.]]\n",
      "------Problem 11-------\n",
      "\n",
      "[[2]]\n",
      "------Problem 12-------\n",
      "\n",
      "6\n",
      "------Problem 13-------\n",
      "\n",
      "1.28571428571\n",
      "------Problem 14-------\n",
      "\n",
      "[[ 0.64389561 -0.02900175]\n",
      " [ 0.31692853 -0.82883762]\n",
      " [ 0.69638693  0.55873705]]\n",
      "------Problem 15-------\n",
      "\n",
      "[[ 11.58649981   4.40429538]\n",
      " [  5.97592124   3.10383914]\n",
      " [  5.0337728    4.27942309]]\n"
     ]
    }
   ],
   "source": [
    "A = np.matrix('1 2 3; 1 1 1; 3 1 2')\n",
    "B = np.matrix('1 1 1; 1 0 1; 2 0 1')\n",
    "C = np.matrix('1 0 1; 2 1 1; 1 1 1')\n",
    "x = np.array([1,1,1])\n",
    "y = np.array([1,2,3])\n",
    "problem1(A,B)\n",
    "problem2(A,B,C)\n",
    "problem3(A,B,C)\n",
    "problem4(x,y)\n",
    "problem5(A)\n",
    "problem6(A)\n",
    "problem7(A)\n",
    "problem8(A,x)\n",
    "problem9(A,x)\n",
    "problem10(A,5)\n",
    "problem11(A,1,2)\n",
    "problem12(A,1)\n",
    "problem13(A,1,2)\n",
    "problem14(A,2)\n",
    "problem15(x,2,5,7)"
   ]
  }
 ],
 "metadata": {
  "kernelspec": {
   "display_name": "Python 3",
   "language": "python",
   "name": "python3"
  },
  "language_info": {
   "codemirror_mode": {
    "name": "ipython",
    "version": 3
   },
   "file_extension": ".py",
   "mimetype": "text/x-python",
   "name": "python",
   "nbconvert_exporter": "python",
   "pygments_lexer": "ipython3",
   "version": "3.6.1"
  }
 },
 "nbformat": 4,
 "nbformat_minor": 2
}
