{
 "cells": [
  {
   "cell_type": "code",
   "execution_count": 1,
   "metadata": {
    "collapsed": true
   },
   "outputs": [],
   "source": [
    "import numpy as np\n",
    "\n",
    "train_faces = np.load('smile_data/trainingFaces.npy')\n",
    "train_labels = np.load('smile_data/trainingLabels.npy')\n",
    "test_faces = np.load('smile_data/testingFaces.npy')\n",
    "test_labels = np.load('smile_data/testingLabels.npy')\n",
    "\n",
    "def J(w,x,y,alpha=0):\n",
    "    wt = np.matrix.transpose(w)\n",
    "    j = np.sum((np.dot(x,wt)-y)**2)\n",
    "    return j/2\n",
    "\n",
    "def gradJ(w,x,y,alpha):\n",
    "    try:\n",
    "        wt,xt = np.matrix.transpose(w), np.matrix.transpose(x)\n",
    "        h = np.dot(x,wt)\n",
    "        loss = h-y\n",
    "        grad_j = np.dot(xt,loss)\n",
    "        print(\"Shape inside\",grad_j.shape)\n",
    "        return grad_j\n",
    "    except:\n",
    "        print(xt.shape)\n",
    "\n",
    "def gradient_descent(w,x,y,alpha):\n",
    "    a = alpha*np.matrix.transpose(w)\n",
    "    b = gradJ(w,x,y,alpha)\n",
    "    gradient = b+a\n",
    "    print(\"shape of GradJ1\",b.shape)\n",
    "    return gradient\n",
    "\n",
    "def report_cost(w,alpha):\n",
    "    print(\"Training Cost :\",J(w,train_faces,train_labels,alpha))\n",
    "    print(\"Testing Cost :\",J(w,test_faces,test_labels,alpha))"
   ]
  },
  {
   "cell_type": "code",
   "execution_count": 15,
   "metadata": {
    "collapsed": true
   },
   "outputs": [],
   "source": [
    "def method1(train_faces,train_labels,test_faces,test_labels):\n",
    "    # Computing 'w' -  weights\n",
    "    w_transpose = np.matrix.transpose(np.dot(np.linalg.pinv(train_faces),train_labels))\n",
    "    return w_transpose"
   ]
  },
  {
   "cell_type": "code",
   "execution_count": 20,
   "metadata": {},
   "outputs": [
    {
     "name": "stdout",
     "output_type": "stream",
     "text": [
      "------------For Method 1----------\n",
      "Training Cost : 112.722612528\n",
      "Testing Cost : 190.375513314\n"
     ]
    }
   ],
   "source": [
    "w1 = method1(train_faces,train_labels,test_faces,test_labels)\n",
    "print(\"------------For Method 1----------\")\n",
    "report_cost(w1,0)"
   ]
  },
  {
   "cell_type": "code",
   "execution_count": 17,
   "metadata": {
    "collapsed": true
   },
   "outputs": [],
   "source": [
    "def method2(train_faces,train_labels,test_faces,test_labels,alpha):\n",
    "    w = np.random.randn(1,train_faces.shape[1])\n",
    "    tolerance = 10\n",
    "    epsilon = 1e-6\n",
    "    while tolerance > 0.001:\n",
    "        prev_cost = J(w,train_faces,train_labels,alpha)\n",
    "        prev_gradJ = gradJ(w,train_faces,train_labels,alpha)\n",
    "        u = prev_gradJ*epsilon\n",
    "        w = w - u.transpose()\n",
    "        curr_cost = J(w,train_faces,train_labels,alpha)\n",
    "        tolerance = np.absolute(prev_cost-curr_cost)\n",
    "        print(\"Cost : \",curr_cost)\n",
    "    return w"
   ]
  },
  {
   "cell_type": "code",
   "execution_count": null,
   "metadata": {},
   "outputs": [],
   "source": [
    "w2 = method2(train_faces,train_labels,test_faces,test_labels,0)\n",
    "report_cost(w2,0)"
   ]
  },
  {
   "cell_type": "code",
   "execution_count": 3,
   "metadata": {},
   "outputs": [],
   "source": [
    "def method3(train_faces,train_labels,alpha=1e3):\n",
    "    w = np.random.randn(1,train_faces.shape[1])\n",
    "    tolerance = 10\n",
    "    epsilon = 1e-6\n",
    "    while tolerance > 0.001:\n",
    "        penalty = (alpha/2)*np.dot(w,np.matrix.transpose(w))\n",
    "        prev_cost = J(w,train_faces,train_labels,alpha)+penalty\n",
    "        print(\"Shape of W\",w.shape)\n",
    "        prev_gradJ = gradient_descent(w,train_faces,train_labels,alpha)\n",
    "        print(\"Shape of W2\",w.shape)\n",
    "        u = prev_gradJ*epsilon\n",
    "        print(\"Shape of GradJ\",prev_gradJ.shape)\n",
    "        w = w - u.transpose()\n",
    "        print(\"Shape of w3\",w.shape)\n",
    "        curr_cost = J(w,train_faces,train_labels,alpha)+penalty\n",
    "        tolerance = np.absolute(prev_cost-curr_cost)\n",
    "        print(\"Cost : \",curr_cost)\n",
    "    return w"
   ]
  },
  {
   "cell_type": "code",
   "execution_count": 4,
   "metadata": {},
   "outputs": [
    {
     "name": "stdout",
     "output_type": "stream",
     "text": [
      "Shape of W (1, 576)\n",
      "Shape inside (576, 2000)\n",
      "shape of GradJ1 (576, 2000)\n",
      "Shape of W2 (1, 576)\n",
      "Shape of GradJ (576, 2000)\n",
      "Shape of w3 (2000, 576)\n",
      "Cost :  [[  1.26819611e+09]]\n",
      "Shape of W (2000, 576)\n",
      "Shape inside (576, 2000)\n",
      "shape of GradJ1 (576, 2000)\n",
      "Shape of W2 (2000, 576)\n",
      "Shape of GradJ (576, 2000)\n",
      "Shape of w3 (2000, 576)\n",
      "Cost :  [[  1.21090555e+09   1.21090555e+09   1.21090555e+09 ...,   1.21090555e+09\n",
      "    1.21090555e+09   1.21090555e+09]\n",
      " [  1.21090555e+09   1.21090555e+09   1.21090555e+09 ...,   1.21090555e+09\n",
      "    1.21090555e+09   1.21090555e+09]\n",
      " [  1.21090555e+09   1.21090555e+09   1.21090555e+09 ...,   1.21090555e+09\n",
      "    1.21090555e+09   1.21090555e+09]\n",
      " ..., \n",
      " [  1.21090555e+09   1.21090555e+09   1.21090555e+09 ...,   1.21090555e+09\n",
      "    1.21090555e+09   1.21090555e+09]\n",
      " [  1.21090555e+09   1.21090555e+09   1.21090555e+09 ...,   1.21090555e+09\n",
      "    1.21090555e+09   1.21090555e+09]\n",
      " [  1.21090555e+09   1.21090555e+09   1.21090555e+09 ...,   1.21090555e+09\n",
      "    1.21090555e+09   1.21090555e+09]]\n"
     ]
    },
    {
     "ename": "ValueError",
     "evalue": "The truth value of an array with more than one element is ambiguous. Use a.any() or a.all()",
     "output_type": "error",
     "traceback": [
      "\u001b[0;31m---------------------------------------------------------------------------\u001b[0m",
      "\u001b[0;31mValueError\u001b[0m                                Traceback (most recent call last)",
      "\u001b[0;32m<ipython-input-4-addefaf03a7b>\u001b[0m in \u001b[0;36m<module>\u001b[0;34m()\u001b[0m\n\u001b[0;32m----> 1\u001b[0;31m \u001b[0mw3\u001b[0m \u001b[0;34m=\u001b[0m \u001b[0mmethod3\u001b[0m\u001b[0;34m(\u001b[0m\u001b[0mtrain_faces\u001b[0m\u001b[0;34m,\u001b[0m\u001b[0mtrain_labels\u001b[0m\u001b[0;34m,\u001b[0m\u001b[0;36m1e3\u001b[0m\u001b[0;34m)\u001b[0m\u001b[0;34m\u001b[0m\u001b[0m\n\u001b[0m\u001b[1;32m      2\u001b[0m \u001b[0mreport_cost\u001b[0m\u001b[0;34m(\u001b[0m\u001b[0mw3\u001b[0m\u001b[0;34m,\u001b[0m\u001b[0;36m1000\u001b[0m\u001b[0;34m)\u001b[0m\u001b[0;34m\u001b[0m\u001b[0m\n",
      "\u001b[0;32m<ipython-input-3-75e32b26cadd>\u001b[0m in \u001b[0;36mmethod3\u001b[0;34m(train_faces, train_labels, alpha)\u001b[0m\n\u001b[1;32m      3\u001b[0m     \u001b[0mtolerance\u001b[0m \u001b[0;34m=\u001b[0m \u001b[0;36m10\u001b[0m\u001b[0;34m\u001b[0m\u001b[0m\n\u001b[1;32m      4\u001b[0m     \u001b[0mepsilon\u001b[0m \u001b[0;34m=\u001b[0m \u001b[0;36m1e-6\u001b[0m\u001b[0;34m\u001b[0m\u001b[0m\n\u001b[0;32m----> 5\u001b[0;31m     \u001b[0;32mwhile\u001b[0m \u001b[0mtolerance\u001b[0m \u001b[0;34m>\u001b[0m \u001b[0;36m0.001\u001b[0m\u001b[0;34m:\u001b[0m\u001b[0;34m\u001b[0m\u001b[0m\n\u001b[0m\u001b[1;32m      6\u001b[0m         \u001b[0mpenalty\u001b[0m \u001b[0;34m=\u001b[0m \u001b[0;34m(\u001b[0m\u001b[0malpha\u001b[0m\u001b[0;34m/\u001b[0m\u001b[0;36m2\u001b[0m\u001b[0;34m)\u001b[0m\u001b[0;34m*\u001b[0m\u001b[0mnp\u001b[0m\u001b[0;34m.\u001b[0m\u001b[0mdot\u001b[0m\u001b[0;34m(\u001b[0m\u001b[0mw\u001b[0m\u001b[0;34m,\u001b[0m\u001b[0mnp\u001b[0m\u001b[0;34m.\u001b[0m\u001b[0mmatrix\u001b[0m\u001b[0;34m.\u001b[0m\u001b[0mtranspose\u001b[0m\u001b[0;34m(\u001b[0m\u001b[0mw\u001b[0m\u001b[0;34m)\u001b[0m\u001b[0;34m)\u001b[0m\u001b[0;34m\u001b[0m\u001b[0m\n\u001b[1;32m      7\u001b[0m         \u001b[0mprev_cost\u001b[0m \u001b[0;34m=\u001b[0m \u001b[0mJ\u001b[0m\u001b[0;34m(\u001b[0m\u001b[0mw\u001b[0m\u001b[0;34m,\u001b[0m\u001b[0mtrain_faces\u001b[0m\u001b[0;34m,\u001b[0m\u001b[0mtrain_labels\u001b[0m\u001b[0;34m,\u001b[0m\u001b[0malpha\u001b[0m\u001b[0;34m)\u001b[0m\u001b[0;34m+\u001b[0m\u001b[0mpenalty\u001b[0m\u001b[0;34m\u001b[0m\u001b[0m\n",
      "\u001b[0;31mValueError\u001b[0m: The truth value of an array with more than one element is ambiguous. Use a.any() or a.all()"
     ]
    }
   ],
   "source": [
    "w3 = method3(train_faces,train_labels,1e3)\n",
    "report_cost(w3,1000)"
   ]
  }
 ],
 "metadata": {
  "kernelspec": {
   "display_name": "Python 3",
   "language": "python",
   "name": "python3"
  },
  "language_info": {
   "codemirror_mode": {
    "name": "ipython",
    "version": 3
   },
   "file_extension": ".py",
   "mimetype": "text/x-python",
   "name": "python",
   "nbconvert_exporter": "python",
   "pygments_lexer": "ipython3",
   "version": "3.6.1"
  }
 },
 "nbformat": 4,
 "nbformat_minor": 2
}
