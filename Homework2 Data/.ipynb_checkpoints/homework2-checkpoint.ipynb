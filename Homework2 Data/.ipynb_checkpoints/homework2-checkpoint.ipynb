{
 "cells": [
  {
   "cell_type": "markdown",
   "metadata": {},
   "source": [
    "<h1><center>Deep Learning Home Work 2</center></h1>\n",
    "## Team Members :-\n",
    "Krushika Tapedia (ktapedia) <br>\n",
    "Janvi Kothari (jkkothari) <br>"
   ]
  },
  {
   "cell_type": "code",
   "execution_count": 1,
   "metadata": {},
   "outputs": [],
   "source": [
    "import numpy as np\n",
    "from matplotlib import pyplot as plt"
   ]
  },
  {
   "cell_type": "code",
   "execution_count": 2,
   "metadata": {},
   "outputs": [
    {
     "data": {
      "text/plain": [
       "(1828, 576)"
      ]
     },
     "execution_count": 2,
     "metadata": {},
     "output_type": "execute_result"
    }
   ],
   "source": [
    "train_faces = np.load('smile_data/trainingFaces.npy')\n",
    "train_labels = np.load('smile_data/trainingLabels.npy')\n",
    "test_faces = np.load('smile_data/testingFaces.npy')\n",
    "test_labels = np.load('smile_data/testingLabels.npy')\n",
    "data_img = [train_faces[i].reshape(24,24) for i in range(len(train_faces))]\n",
    "train_labels = train_labels.reshape(2000,1)\n",
    "test_faces.shape"
   ]
  },
  {
   "cell_type": "code",
   "execution_count": 3,
   "metadata": {},
   "outputs": [],
   "source": [
    "def display_face(img):\n",
    "    plt.imshow(img,cmap=\"gray\",interpolation='nearest')\n",
    "    plt.show()"
   ]
  },
  {
   "cell_type": "code",
   "execution_count": 4,
   "metadata": {},
   "outputs": [
    {
     "data": {
      "text/plain": [
       "576"
      ]
     },
     "execution_count": 4,
     "metadata": {},
     "output_type": "execute_result"
    }
   ],
   "source": [
    "w = np.random.randn(train_faces.shape[1])\n",
    "train_faces.shape[1]"
   ]
  },
  {
   "cell_type": "code",
   "execution_count": 198,
   "metadata": {},
   "outputs": [],
   "source": [
    "def J(w,faces,labels,alpha=0):\n",
    "    wt = np.matrix.transpose(w)\n",
    "    print(faces.shape,wt.shape)\n",
    "    j = np.sum((np.dot(faces,wt)-labels)**2)\n",
    "    return j/2"
   ]
  },
  {
   "cell_type": "code",
   "execution_count": 231,
   "metadata": {},
   "outputs": [],
   "source": [
    "def gradJ(w,x,y,alpha):\n",
    "    wt,xt = w.transpose(),x.transpose()\n",
    "    h = np.dot(x,wt)\n",
    "    loss = h-y\n",
    "    grad_j = np.dot(xt,loss)\n",
    "    return grad_j\n",
    "#     except (ValueError):\n",
    "#         print(w.shape)"
   ]
  },
  {
   "cell_type": "markdown",
   "metadata": {},
   "source": [
    "## Question 2 : Method 1\n",
    "Set Gradient to 0 and Solve"
   ]
  },
  {
   "cell_type": "code",
   "execution_count": 216,
   "metadata": {},
   "outputs": [],
   "source": [
    "def method1(train_faces,train_labels,test_faces,test_labels):\n",
    "    # Computing 'w' -  weights\n",
    "    w_transpose = np.matrix.transpose(np.dot(np.linalg.pinv(train_faces),train_labels))\n",
    "    #Computing Testing Phase\n",
    "    # y = w transpose * x\n",
    "    #Computing the Cost in the training phase\n",
    "    cost = J(w_transpose,train_faces,train_labels,0)\n",
    "    print(\"Training Cost for Method 1 =\",cost)\n",
    "    cost_test = J(w_transpose,test_faces,test_labels,0)\n",
    "    print(\"Testing Cost for Method 1 =\",cost_test)"
   ]
  },
  {
   "cell_type": "code",
   "execution_count": 217,
   "metadata": {},
   "outputs": [
    {
     "name": "stdout",
     "output_type": "stream",
     "text": [
      "(2000, 576) (576, 1)\n",
      "Training Cost for Method 1 = 112.72261252831223\n",
      "(1828, 576) (576, 1)\n",
      "Testing Cost for Method 1 = 717368.7860522605\n"
     ]
    }
   ],
   "source": [
    "method1(train_faces,train_labels,test_faces,test_labels)"
   ]
  },
  {
   "cell_type": "markdown",
   "metadata": {},
   "source": [
    "## Question 2 : Method 2\n",
    "Gradient Descent - using alpha (learning rate) and tolerance"
   ]
  },
  {
   "cell_type": "code",
   "execution_count": 232,
   "metadata": {},
   "outputs": [],
   "source": [
    "def method2(train_faces,train_labels,test_faces,test_labels,alpha):\n",
    "    w = np.random.randn(1,train_faces.shape[1])\n",
    "    tolerance = 10\n",
    "    while tolerance > 0.001:\n",
    "        prev_cost = J(w,train_faces,train_labels,alpha)\n",
    "        prev_gradJ = gradJ(w,train_faces,train_labels,alpha)\n",
    "        w = w-(alpha*prev_gradJ)\n",
    "        curr_cost = J(w,train_faces,train_labels,alpha)\n",
    "        tolerance = np.absolute(prev_cost-curr_cost)\n",
    "\n",
    "#     print(\"Training Cost for Method 2 = \",prev_cost)\n",
    "    return prev_cost"
   ]
  },
  {
   "cell_type": "code",
   "execution_count": 233,
   "metadata": {},
   "outputs": [
    {
     "name": "stdout",
     "output_type": "stream",
     "text": [
      "(2000, 576) (576, 1)\n",
      "(2000, 576) (576, 1)\n",
      "(2000, 1)\n",
      "(576, 1) (1, 576) (2000, 576)\n",
      "(2000, 576) (576, 576)\n",
      "(2000, 576) (576, 576)\n",
      "(2000, 576) (576, 576)\n",
      "(2000, 576)\n",
      "(576, 576) (576, 576) (2000, 576)\n",
      "(2000, 576) (576, 576)\n",
      "Training Cost for Method 2 =  245347613.29467583\n"
     ]
    }
   ],
   "source": [
    "print(\"Training Cost for Method 2 = \",method2(train_faces,train_labels,test_faces,test_labels,8e-6))"
   ]
  },
  {
   "cell_type": "code",
   "execution_count": 165,
   "metadata": {},
   "outputs": [
    {
     "ename": "ValueError",
     "evalue": "shapes (1828,576) and (1,576) not aligned: 576 (dim 1) != 1 (dim 0)",
     "output_type": "error",
     "traceback": [
      "\u001b[0;31m---------------------------------------------------------------------------\u001b[0m",
      "\u001b[0;31mValueError\u001b[0m                                Traceback (most recent call last)",
      "\u001b[0;32m<ipython-input-165-92955f46ba80>\u001b[0m in \u001b[0;36m<module>\u001b[0;34m()\u001b[0m\n\u001b[0;32m----> 1\u001b[0;31m \u001b[0mprint\u001b[0m\u001b[0;34m(\u001b[0m\u001b[0;34m\"Testing Cost for Method 2 = \"\u001b[0m\u001b[0;34m,\u001b[0m\u001b[0mmethod2\u001b[0m\u001b[0;34m(\u001b[0m\u001b[0mtest_faces\u001b[0m\u001b[0;34m,\u001b[0m\u001b[0mtest_labels\u001b[0m\u001b[0;34m,\u001b[0m\u001b[0mtest_faces\u001b[0m\u001b[0;34m,\u001b[0m\u001b[0mtest_labels\u001b[0m\u001b[0;34m,\u001b[0m\u001b[0;36m8e-6\u001b[0m\u001b[0;34m)\u001b[0m\u001b[0;34m)\u001b[0m\u001b[0;34m\u001b[0m\u001b[0m\n\u001b[0m",
      "\u001b[0;32m<ipython-input-163-623793c306b9>\u001b[0m in \u001b[0;36mmethod2\u001b[0;34m(train_faces, train_labels, test_faces, test_labels, alpha)\u001b[0m\n\u001b[1;32m      3\u001b[0m     \u001b[0mtolerance\u001b[0m \u001b[0;34m=\u001b[0m \u001b[0;36m10\u001b[0m\u001b[0;34m\u001b[0m\u001b[0m\n\u001b[1;32m      4\u001b[0m     \u001b[0;32mwhile\u001b[0m \u001b[0mtolerance\u001b[0m \u001b[0;34m>\u001b[0m \u001b[0;36m0.001\u001b[0m\u001b[0;34m:\u001b[0m\u001b[0;34m\u001b[0m\u001b[0m\n\u001b[0;32m----> 5\u001b[0;31m         \u001b[0mprev_cost\u001b[0m \u001b[0;34m=\u001b[0m \u001b[0mJ\u001b[0m\u001b[0;34m(\u001b[0m\u001b[0mw\u001b[0m\u001b[0;34m,\u001b[0m\u001b[0mtrain_faces\u001b[0m\u001b[0;34m,\u001b[0m\u001b[0mtrain_labels\u001b[0m\u001b[0;34m,\u001b[0m\u001b[0malpha\u001b[0m\u001b[0;34m)\u001b[0m\u001b[0;34m\u001b[0m\u001b[0m\n\u001b[0m\u001b[1;32m      6\u001b[0m         \u001b[0mprev_gradJ\u001b[0m \u001b[0;34m=\u001b[0m \u001b[0mgradJ\u001b[0m\u001b[0;34m(\u001b[0m\u001b[0mw\u001b[0m\u001b[0;34m,\u001b[0m\u001b[0mtrain_faces\u001b[0m\u001b[0;34m,\u001b[0m\u001b[0mtrain_labels\u001b[0m\u001b[0;34m,\u001b[0m\u001b[0malpha\u001b[0m\u001b[0;34m)\u001b[0m\u001b[0;34m\u001b[0m\u001b[0m\n\u001b[1;32m      7\u001b[0m         \u001b[0mw\u001b[0m \u001b[0;34m=\u001b[0m \u001b[0mw\u001b[0m\u001b[0;34m-\u001b[0m\u001b[0;34m(\u001b[0m\u001b[0malpha\u001b[0m\u001b[0;34m*\u001b[0m\u001b[0mprev_gradJ\u001b[0m\u001b[0;34m)\u001b[0m\u001b[0;34m\u001b[0m\u001b[0m\n",
      "\u001b[0;32m<ipython-input-5-41e5bfb6531d>\u001b[0m in \u001b[0;36mJ\u001b[0;34m(w, faces, labels, alpha)\u001b[0m\n\u001b[1;32m      1\u001b[0m \u001b[0;32mdef\u001b[0m \u001b[0mJ\u001b[0m\u001b[0;34m(\u001b[0m\u001b[0mw\u001b[0m\u001b[0;34m,\u001b[0m\u001b[0mfaces\u001b[0m\u001b[0;34m,\u001b[0m\u001b[0mlabels\u001b[0m\u001b[0;34m,\u001b[0m\u001b[0malpha\u001b[0m\u001b[0;34m=\u001b[0m\u001b[0;36m0\u001b[0m\u001b[0;34m)\u001b[0m\u001b[0;34m:\u001b[0m\u001b[0;34m\u001b[0m\u001b[0m\n\u001b[0;32m----> 2\u001b[0;31m     \u001b[0mj\u001b[0m \u001b[0;34m=\u001b[0m \u001b[0mnp\u001b[0m\u001b[0;34m.\u001b[0m\u001b[0msum\u001b[0m\u001b[0;34m(\u001b[0m\u001b[0;34m(\u001b[0m\u001b[0mnp\u001b[0m\u001b[0;34m.\u001b[0m\u001b[0mdot\u001b[0m\u001b[0;34m(\u001b[0m\u001b[0mfaces\u001b[0m\u001b[0;34m,\u001b[0m\u001b[0mw\u001b[0m\u001b[0;34m)\u001b[0m\u001b[0;34m-\u001b[0m\u001b[0mlabels\u001b[0m\u001b[0;34m)\u001b[0m\u001b[0;34m**\u001b[0m\u001b[0;36m2\u001b[0m\u001b[0;34m)\u001b[0m\u001b[0;34m\u001b[0m\u001b[0m\n\u001b[0m\u001b[1;32m      3\u001b[0m     \u001b[0;32mreturn\u001b[0m \u001b[0mj\u001b[0m\u001b[0;34m/\u001b[0m\u001b[0;36m2\u001b[0m\u001b[0;34m\u001b[0m\u001b[0m\n",
      "\u001b[0;31mValueError\u001b[0m: shapes (1828,576) and (1,576) not aligned: 576 (dim 1) != 1 (dim 0)"
     ]
    }
   ],
   "source": [
    "print(\"Testing Cost for Method 2 = \",method2(test_faces,test_labels,test_faces,test_labels,8e-6))"
   ]
  },
  {
   "cell_type": "code",
   "execution_count": 13,
   "metadata": {
    "collapsed": true
   },
   "outputs": [],
   "source": [
    "def gradient_descent(w,x,y,alpha):\n",
    "    gradient = gradJ(w,x,y,alpha)+(alpha*w)\n",
    "    return gradient"
   ]
  },
  {
   "cell_type": "code",
   "execution_count": 60,
   "metadata": {
    "collapsed": true
   },
   "outputs": [],
   "source": [
    "def method3(train_faces,train_labels,alpha=10e3):\n",
    "    w = np.random.randn(train_faces.shape[1],1)\n",
    "    print(\"Shape of w\",w.shape)\n",
    "    tolerance = 10\n",
    "    while tolerance > 0.001:\n",
    "        penalty = (alpha/2)+np.dot(np.matrix.transpose(w),w)\n",
    "        print(penalty)\n",
    "        cost = J(w,train_faces,train_labels,alpha)+penalty\n",
    "        print(\"Cost\",cost)\n",
    "        gradJ = gradient_descent(w,train_faces,train_labels,alpha)\n",
    "#         w = w.reshape(train_faces.shape[1],1)\n",
    "        w = w-(alpha*gradJ)\n",
    "        cost_optimal = J(w,train_faces,train_labels,alpha)+penalty\n",
    "        tolerance = np.absolute(cost-cost_optimal)\n",
    "        \n",
    "    print(\"Cost Optimal\",cost_optimal)"
   ]
  },
  {
   "cell_type": "code",
   "execution_count": 64,
   "metadata": {},
   "outputs": [
    {
     "name": "stdout",
     "output_type": "stream",
     "text": [
      "Shape of w (576, 1)\n",
      "[[ 5560.23898149]]\n",
      "Cost [[ 356940.66230666]]\n",
      "[[  8.47823919e+18]]\n",
      "Cost [[  9.10533765e+22]]\n",
      "[[  3.17782509e+36]]\n",
      "Cost [[  3.00286074e+41]]\n",
      "[[  1.44448176e+55]]\n",
      "Cost [[  1.66846574e+60]]\n",
      "[[  8.58793714e+73]]\n",
      "Cost [[  1.02706118e+79]]\n",
      "[[  5.35566350e+92]]\n",
      "Cost [[  6.44639288e+97]]\n",
      "[[  3.36951651e+111]]\n",
      "Cost [[  4.06049975e+116]]\n",
      "[[  2.12333202e+130]]\n",
      "Cost [[  2.55930462e+135]]\n",
      "[[  1.33842615e+149]]\n",
      "Cost [[  1.61330023e+154]]\n",
      "[[  8.43711158e+167]]\n",
      "Cost [[  1.01699216e+173]]\n",
      "[[  5.31859989e+186]]\n",
      "Cost [[  6.41093955e+191]]\n",
      "[[  3.35275332e+205]]\n",
      "Cost [[  4.04134626e+210]]\n",
      "[[  2.11351832e+224]]\n",
      "Cost [[  2.54759564e+229]]\n",
      "[[  1.33232587e+243]]\n",
      "Cost [[  1.60596081e+248]]\n",
      "[[  8.39875486e+261]]\n",
      "Cost [[  1.01237028e+267]]\n",
      "[[  5.29443172e+280]]\n",
      "Cost [[  6.38180949e+285]]\n",
      "[[  3.33751940e+299]]\n",
      "Cost [[  4.02298379e+304]]\n",
      "[[ inf]]\n",
      "Cost [[ inf]]\n",
      "Cost Optimal [[ inf]]\n"
     ]
    },
    {
     "name": "stderr",
     "output_type": "stream",
     "text": [
      "/home/krushika/anaconda3/lib/python3.6/site-packages/ipykernel_launcher.py:2: RuntimeWarning: overflow encountered in square\n",
      "  \n",
      "/home/krushika/anaconda3/lib/python3.6/site-packages/ipykernel_launcher.py:14: RuntimeWarning: invalid value encountered in subtract\n",
      "  \n"
     ]
    }
   ],
   "source": [
    "method3(train_faces,train_labels,10e3)"
   ]
  }
 ],
 "metadata": {
  "kernelspec": {
   "display_name": "Python 3",
   "language": "python",
   "name": "python3"
  },
  "language_info": {
   "codemirror_mode": {
    "name": "ipython",
    "version": 3
   },
   "file_extension": ".py",
   "mimetype": "text/x-python",
   "name": "python",
   "nbconvert_exporter": "python",
   "pygments_lexer": "ipython3",
   "version": "3.6.4"
  }
 },
 "nbformat": 4,
 "nbformat_minor": 2
}
