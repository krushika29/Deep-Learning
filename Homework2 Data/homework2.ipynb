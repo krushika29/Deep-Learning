{
 "cells": [
  {
   "cell_type": "markdown",
   "metadata": {},
   "source": [
    "<h1><center>Deep Learning Home Work 2</center></h1>\n",
    "## Team Members :-\n",
    "Krushika Tapedia (ktapedia) <br>\n",
    "Janvi Kothari (jkkothari) <br>"
   ]
  },
  {
   "cell_type": "code",
   "execution_count": 2,
   "metadata": {
    "collapsed": true
   },
   "outputs": [],
   "source": [
    "import numpy as np\n",
    "from matplotlib import pyplot as plt"
   ]
  },
  {
   "cell_type": "code",
   "execution_count": 57,
   "metadata": {},
   "outputs": [
    {
     "data": {
      "text/plain": [
       "(1828, 576)"
      ]
     },
     "execution_count": 57,
     "metadata": {},
     "output_type": "execute_result"
    }
   ],
   "source": [
    "train_faces = np.load('smile_data/trainingFaces.npy')\n",
    "train_labels = np.load('smile_data/trainingLabels.npy')\n",
    "test_faces = np.load('smile_data/testingFaces.npy')\n",
    "test_labels = np.load('smile_data/testingLabels.npy')\n",
    "data_img = [train_faces[i].reshape(24,24) for i in range(len(train_faces))]\n",
    "train_labels = train_labels.reshape(2000,1)\n",
    "test_faces.shape"
   ]
  },
  {
   "cell_type": "code",
   "execution_count": 4,
   "metadata": {
    "collapsed": true
   },
   "outputs": [],
   "source": [
    "def display_face(img):\n",
    "    plt.imshow(img,cmap=\"gray\",interpolation='nearest')\n",
    "    plt.show()"
   ]
  },
  {
   "cell_type": "code",
   "execution_count": 5,
   "metadata": {},
   "outputs": [
    {
     "data": {
      "text/plain": [
       "576"
      ]
     },
     "execution_count": 5,
     "metadata": {},
     "output_type": "execute_result"
    }
   ],
   "source": [
    "w = np.random.randn(train_faces.shape[1])\n",
    "train_faces.shape[1]"
   ]
  },
  {
   "cell_type": "code",
   "execution_count": 10,
   "metadata": {
    "collapsed": true
   },
   "outputs": [],
   "source": [
    "def J(w,x,y,alpha=0):\n",
    "    wt = np.matrix.transpose(w)\n",
    "    j = np.sum((np.dot(x,wt)-y)**2)\n",
    "    return j/2"
   ]
  },
  {
   "cell_type": "code",
   "execution_count": 17,
   "metadata": {
    "collapsed": true
   },
   "outputs": [],
   "source": [
    "def gradJ(w,x,y,alpha):\n",
    "    try:\n",
    "        wt,xt = np.matrix.transpose(w[:]), np.matrix.transpose(x[:])\n",
    "        h = np.dot(x,wt)\n",
    "        loss = h-y\n",
    "        grad_j = np.dot(xt,loss)\n",
    "        return grad_j\n",
    "    except:\n",
    "        print(xt.shape)"
   ]
  },
  {
   "cell_type": "markdown",
   "metadata": {},
   "source": [
    "## Question 2 : Method 1\n",
    "Set Gradient to 0 and Solve"
   ]
  },
  {
   "cell_type": "code",
   "execution_count": 24,
   "metadata": {
    "collapsed": true
   },
   "outputs": [],
   "source": [
    "def method1(train_faces,train_labels,test_faces,test_labels):\n",
    "    # Computing 'w' -  weights\n",
    "    w_transpose = np.matrix.transpose(np.dot(np.linalg.pinv(train_faces),train_labels))\n",
    "    #Computing Testing Phase\n",
    "    # y = w transpose * x\n",
    "    #Computing the Cost in the training phase\n",
    "    cost = J(w_transpose,train_faces,train_labels,0)\n",
    "    print(\"Training Cost for Method 1 =\",cost)\n",
    "    cost_test = J(w_transpose,test_faces,test_labels,0)\n",
    "    print(\"Testing Cost for Method 1 =\",cost_test)"
   ]
  },
  {
   "cell_type": "code",
   "execution_count": 25,
   "metadata": {},
   "outputs": [
    {
     "name": "stdout",
     "output_type": "stream",
     "text": [
      "Training Cost for Method 1 = 112.722612528\n",
      "Testing Cost for Method 1 = 717368.786052\n"
     ]
    }
   ],
   "source": [
    "method1(train_faces,train_labels,test_faces,test_labels)"
   ]
  },
  {
   "cell_type": "markdown",
   "metadata": {},
   "source": [
    "## Question 2 : Method 2\n",
    "Gradient Descent - using epsilon (learning rate) and tolerance"
   ]
  },
  {
   "cell_type": "code",
   "execution_count": 58,
   "metadata": {
    "collapsed": true
   },
   "outputs": [],
   "source": [
    "def method2(train_faces,train_labels,test_faces,test_labels,alpha):\n",
    "    w = np.random.randn(1,train_faces.shape[1])\n",
    "    tolerance = 10\n",
    "    epsilon = 8e-6\n",
    "    while tolerance > 0.001:\n",
    "        prev_cost = J(w,train_faces,train_labels,alpha)\n",
    "        prev_gradJ = gradJ(w,train_faces,train_labels,alpha)\n",
    "        u = np.dot(prev_gradJ,epsilon)\n",
    "        w = np.subtract(w,u.transpose())\n",
    "        curr_cost = J(w,train_faces,train_labels,alpha)\n",
    "        test_cost = J(w,test_faces,test_labels,0)\n",
    "        tolerance = np.absolute(prev_cost-curr_cost)\n",
    "    return prev_cost,test_cost"
   ]
  },
  {
   "cell_type": "code",
   "execution_count": null,
   "metadata": {},
   "outputs": [],
   "source": [
    "print(\"Training and Testing Cost for Method 2 = \",method2(train_faces,train_labels,test_faces,test_labels,0))"
   ]
  },
  {
   "cell_type": "code",
   "execution_count": 54,
   "metadata": {
    "collapsed": true
   },
   "outputs": [],
   "source": [
    "def gradient_descent(w,x,y,alpha):\n",
    "    a = np.dot(alpha,np.matrix.transpose(w))\n",
    "    gradient = gradJ(w,x,y,alpha)+a\n",
    "    return gradient"
   ]
  },
  {
   "cell_type": "code",
   "execution_count": 53,
   "metadata": {
    "collapsed": true
   },
   "outputs": [],
   "source": [
    "def method3(train_faces,train_labels,alpha=1e3):\n",
    "    w = np.random.randn(1,train_faces.shape[1])\n",
    "    tolerance = 10\n",
    "    epsilon = 1e-6\n",
    "    while tolerance > 0.001:\n",
    "        penalty = (alpha/2)*np.dot(w,np.matrix.transpose(w))\n",
    "        prev_cost = J(w,train_faces,train_labels,alpha)+penalty\n",
    "        prev_gradJ = gradient_descent(w,train_faces,train_labels,alpha)\n",
    "        u = np.dot(prev_gradJ,epsilon)\n",
    "        w = np.subtract(w,u.transpose())\n",
    "        curr_cost = J(w,train_faces,train_labels,alpha)+penalty\n",
    "        tolerance = np.absolute(prev_cost-curr_cost)\n",
    "    test_cost = J(w,test_faces,test_labels,1e3)\n",
    "    return prev_cost,test_cost"
   ]
  },
  {
   "cell_type": "code",
   "execution_count": 56,
   "metadata": {},
   "outputs": [
    {
     "name": "stdout",
     "output_type": "stream",
     "text": [
      "Training and Testing cost for Method 3 =  (array([[ 170.43737589]]), 588763.02595898253)\n"
     ]
    }
   ],
   "source": [
    "print(\"Training and Testing cost for Method 3 = \",method3(train_faces,train_labels,1e3))"
   ]
  }
 ],
 "metadata": {
  "kernelspec": {
   "display_name": "Python 3",
   "language": "python",
   "name": "python3"
  },
  "language_info": {
   "codemirror_mode": {
    "name": "ipython",
    "version": 3
   },
   "file_extension": ".py",
   "mimetype": "text/x-python",
   "name": "python",
   "nbconvert_exporter": "python",
   "pygments_lexer": "ipython3",
   "version": "3.6.1"
  }
 },
 "nbformat": 4,
 "nbformat_minor": 2
}
